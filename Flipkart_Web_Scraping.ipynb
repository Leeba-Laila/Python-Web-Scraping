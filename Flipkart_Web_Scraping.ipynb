{
 "cells": [
  {
   "cell_type": "markdown",
   "metadata": {},
   "source": [
    "## Scraping the Web page of Flipkart"
   ]
  },
  {
   "cell_type": "code",
   "execution_count": 1,
   "metadata": {},
   "outputs": [
    {
     "name": "stdout",
     "output_type": "stream",
     "text": [
      "https://www.flipkart.com/search?q=refrigerator&page=1\n",
      "No. of rows searched 48\n"
     ]
    }
   ],
   "source": [
    "import requests\n",
    "import bs4\n",
    "from bs4 import BeautifulSoup\n",
    "from fake_useragent import UserAgent\n",
    "import re\n",
    "import pandas as pd \n",
    "import seaborn as sns\n",
    "import matplotlib.pyplot as plt\n",
    "\n",
    "user_agent = UserAgent()\n",
    "\n",
    "product_name = 'refrigerator'\n",
    "url = 'https://www.flipkart.com/search?q={0}&page={1}' \n",
    "print( url.format(product_name,1))\n",
    "\n",
    "nm = []\n",
    "op = []\n",
    "dp = []\n",
    "dper = []\n",
    "rt = []\n",
    "cType = []\n",
    "star_rt = []\n",
    "shelf = []\n",
    "cap = []\n",
    "specification = []\n",
    "count = 0\n",
    "\n",
    "for i in range(1,3): \n",
    "    url = \"https://www.flipkart.com/search?q={0}&page={1}\" # Scrape data from Flipkart.com\n",
    "    url = url.format(product_name,i)\n",
    "    page = requests.get(url, headers ={\"User_agent\": user_agent.chrome})\n",
    "    page_soup = bs4.BeautifulSoup(page.content, \"html.parser\")\n",
    "    \n",
    "    for containers in page_soup.findAll('a',{'class':'_1fQZEK'}):    # for loop iterating over list\n",
    "        name = containers.find('div', attrs={'class':'_4rR01T'})\n",
    "        original_price = containers.find('div', attrs={'class':'_3I9_wc _27UcVY'})\n",
    "        discount_price = containers.find('div', attrs={'class':'_30jeq3 _1_WHN1'})        \n",
    "        discount_percent = containers.find('div', attrs={'class':'_3Ay6Sb'})\n",
    "        rating = containers.find('div', attrs={'class':'_3LWZlK'})\n",
    "        specification = containers.find('div', attrs={'class':'fMghEO'})\n",
    "        \n",
    "        for i in specification:\n",
    "            i = i.find_all('li', attrs={'class':'rgWa7D'})\n",
    "            compressor_type = i[0].text\n",
    "            star_rating = i[1].text\n",
    "            Shelfing = i[2].text\n",
    "            capacity = i[3].text\n",
    "            \n",
    "        nm.append(name.text)\n",
    "        op.append(original_price.text)\n",
    "        dp.append(discount_price.text)\n",
    "        dper.append(discount_percent.text)\n",
    "        cType.append(compressor_type)\n",
    "        star_rt.append(star_rating)\n",
    "        shelf.append(Shelfing)\n",
    "        cap.append(capacity)\n",
    "        rt.append(rating.text) if type(rating) == bs4.element.Tag  else rt.append('NaN')\n",
    "        \n",
    "        count = count + 1 \n",
    "    df = pd.DataFrame({'Product_Name':nm, 'Original_Price':op, 'Discount_Price':dp, 'Discount_Percentage':dper, 'Rating':rt, 'Compressor_Type':cType, 'Star_Rating':star_rt, 'Shelfing':shelf, 'Litre_Capacity':cap,})\n",
    "\n",
    "print('No. of rows searched',count)"
   ]
  },
  {
   "cell_type": "markdown",
   "metadata": {},
   "source": [
    "## Saving the Extracted & Cleaned Data to a CSV File"
   ]
  },
  {
   "cell_type": "code",
   "execution_count": 2,
   "metadata": {},
   "outputs": [],
   "source": [
    "# write and Save the data to a CSV file\n",
    "\n",
    "df.to_csv(r'C:\\Users\\91730\\Desktop\\DFZ_Assignment\\CapstoneProject_1\\FlipkartWebscraping.csv', index=False, encoding='utf-8')"
   ]
  },
  {
   "cell_type": "code",
   "execution_count": null,
   "metadata": {},
   "outputs": [],
   "source": []
  }
 ],
 "metadata": {
  "kernelspec": {
   "display_name": "Python 3",
   "language": "python",
   "name": "python3"
  },
  "language_info": {
   "codemirror_mode": {
    "name": "ipython",
    "version": 3
   },
   "file_extension": ".py",
   "mimetype": "text/x-python",
   "name": "python",
   "nbconvert_exporter": "python",
   "pygments_lexer": "ipython3",
   "version": "3.8.3"
  }
 },
 "nbformat": 4,
 "nbformat_minor": 4
}
