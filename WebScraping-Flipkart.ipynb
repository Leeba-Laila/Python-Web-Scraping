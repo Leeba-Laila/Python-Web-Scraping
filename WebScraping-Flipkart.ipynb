{
 "cells": [
  {
   "cell_type": "code",
   "execution_count": 1,
   "metadata": {},
   "outputs": [
    {
     "name": "stdout",
     "output_type": "stream",
     "text": [
      "Data Extraction Complete\n"
     ]
    }
   ],
   "source": [
    "import requests\n",
    "from bs4 import BeautifulSoup\n",
    "flipkart_data=[]\n",
    "for i in range(0,40):\n",
    "    # Looping Through 40 Pages as at the Link remains the same only the Page number gets changes\n",
    "    link = \"https://www.flipkart.com/search?q=mobiles&otracker=search&otracker1=search&marketplace=FLIPKART&as-show=off&as=off&page=%d\" % (i+1)\n",
    "    page=requests.get(link)\n",
    "    dataflipkart=BeautifulSoup(page.text,\"html.parser\")\n",
    "    # Getting The common Div Class which stores the Mobile Information\n",
    "    for a in dataflipkart.findAll('div', attrs={'class':'_3pLy-c row'}):\n",
    "        flipkart_temp={}\n",
    "        # Getting the Mobile Name\n",
    "        name=a.find('div', attrs={'class':'_4rR01T'})\n",
    "        flipkart_temp['MobileName']=name.text\n",
    "        #Extracting the Company Name from Mobile\n",
    "        flipkart_temp['CompanyName'] = flipkart_temp['MobileName'].split()[0]\n",
    "        # Getting the Number of Stars that Mobile Has\n",
    "        try:\n",
    "            flipkart_temp['Stars']=a.find('div', attrs={'class':'_3LWZlK'}).text.strip()\n",
    "        except AttributeError:\n",
    "            flipkart_temp['Stars'] = 0\n",
    "        #Getting the Ratings the Mobile has Got\n",
    "        try:\n",
    "            ratings=a.find('span',attrs={'class':'_2_R_DZ'}).text.strip()\n",
    "            flipkart_temp['Ratings']=ratings.split()[0]\n",
    "        except AttributeError:\n",
    "            flipkart_temp['Ratings'] = 0\n",
    "        #Getting the Reviews the Mobile has Got\n",
    "        try:\n",
    "            ratings=a.find('span',attrs={'class':'_2_R_DZ'}).text.strip()\n",
    "            flipkart_temp['Reviews']=ratings.split()[3]\n",
    "        except AttributeError:\n",
    "            flipkart_temp['Reviews']=0\n",
    "        #Getting the Discounted Price\n",
    "        discountedprice=a.find('div',attrs={'class':'_30jeq3 _1_WHN1'}).text.strip()\n",
    "        flipkart_temp['Discount_Price']=discountedprice.replace('₹','')\n",
    "        #Getting the Actual Price\n",
    "        try:\n",
    "            flipkart_temp['Actual_Price'] = a.find('div',{'class':'_3I9_wc _27UcVY'}).text.replace('₹','').strip()\n",
    "        except AttributeError:\n",
    "            flipkart_temp['Actual_Price'] = flipkart_temp['Discount_Price']\n",
    "        #Getting The Discount Provided by the Mobile Company\n",
    "        try:\n",
    "            flipkart_temp['Discount'] = a.find('div',{'class':'_3Ay6Sb'}).text.replace('% off','').strip()\n",
    "        except AttributeError:\n",
    "            flipkart_temp['Discount']=0\n",
    "        #Getting how much exchange Max offered if a mobile is exchanged\n",
    "        for d in a.findAll('div',attrs={'class':'_18hQoS'}):\n",
    "            if '₹' in d.text:\n",
    "                flipkart_temp['Exchange_Off']=d.text.replace('₹','')\n",
    "        #Looping through the specs of the Mobile        \n",
    "        for d in a.findAll('li',attrs={'class':'rgWa7D'}):\n",
    "            #Getting the RAM\n",
    "            if 'GB RAM' in d.text:\n",
    "                flipkart_temp['RAM_IN_GB']=d.text.split('|')[0].split()[0]\n",
    "            #Getting the Internal Storage\n",
    "            if 'GB ROM' in d.text:\n",
    "                if 'GB RAM' in d.text:\n",
    "                    flipkart_temp['Internal_Storage']=d.text.split('|')[1].split()[0].replace('GB','').strip()\n",
    "                else:\n",
    "                    flipkart_temp['Internal_Storage']=d.text.split()[0].strip()\n",
    "            #Getting the till how much can the Storage be expanded\n",
    "            if 'Expandable' in d.text:\n",
    "                flipkart_temp['Expandable_Upto']=d.text.split('Upto')[1].strip()\n",
    "            if 'inch' in d.text:\n",
    "                flipkart_temp['Display_In_Inch']=d.text.split('(')[1].split()[0].strip()\n",
    "            #Getting the Back Camera Details\n",
    "            if 'Camera' in d.text:\n",
    "                if 'MP' in d.text:\n",
    "                    if d.text[0].isdigit()== True:\n",
    "                        flipkart_temp['Main_Camera']=d.text.split('|')[0].split()[0].replace('MP','').strip()\n",
    "            #Getting the Battery Details\n",
    "            if 'mAh' in d.text:\n",
    "                flipkart_temp['Battery']=d.text.split()[0].strip()\n",
    "            #Getting the Processor Details\n",
    "            if 'Processor' in d.text:\n",
    "                flipkart_temp['Processor']=d.text.replace('Processor','').strip()\n",
    "        #Appending the Details into a list\n",
    "        flipkart_data.append(flipkart_temp)\n",
    "print(\"Data Extraction Complete\")"
   ]
  },
  {
   "cell_type": "code",
   "execution_count": 2,
   "metadata": {},
   "outputs": [],
   "source": [
    "import pandas as pd\n",
    "#Putting the List into a DataFrame\n",
    "df_flipkart = pd.DataFrame(flipkart_data)\n",
    "#Extracting the Dataframe to a CSV File\n",
    "df_flipkart.to_csv('Flipkart_Data.csv')"
   ]
  },
  {
   "cell_type": "code",
   "execution_count": null,
   "metadata": {},
   "outputs": [],
   "source": []
  }
 ],
 "metadata": {
  "kernelspec": {
   "display_name": "Python 3",
   "language": "python",
   "name": "python3"
  },
  "language_info": {
   "codemirror_mode": {
    "name": "ipython",
    "version": 3
   },
   "file_extension": ".py",
   "mimetype": "text/x-python",
   "name": "python",
   "nbconvert_exporter": "python",
   "pygments_lexer": "ipython3",
   "version": "3.8.3"
  }
 },
 "nbformat": 4,
 "nbformat_minor": 4
}
