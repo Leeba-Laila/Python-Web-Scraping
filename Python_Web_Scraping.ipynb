{
 "cells": [
  {
   "cell_type": "markdown",
   "metadata": {},
   "source": [
    "# Web Scraping"
   ]
  },
  {
   "cell_type": "markdown",
   "metadata": {},
   "source": [
    "* The internet is an absolutely massive source of data. Unfortunately, the vast majority if it isn’t available in \n",
    "* conveniently organized CSV files for download and analysis.\n",
    "* If we  want to capture data from many websites, - answer is  web scraping.\n",
    "\n",
    "### Web Scraping - Automatic Gathering of Information from the Web\n",
    "* Writing some code that will fetch some information from the Web\n",
    "* In todays session we’re going to cover how to do web scraping with Python from scratch, "
   ]
  },
  {
   "cell_type": "markdown",
   "metadata": {},
   "source": [
    "### Why would you scrape the Web\n",
    "* Why does someone have to collect such large data from websites?\n",
    "* To collect data from online shopping websites and use it to compare the prices of products.\n",
    "* To collect email ID and then send bulk emails\n",
    "* To collect data from Social Media websites such as Twitter to find out what’s trending.\n",
    "* To collect a large set of data (Statistics, General Information, Temperature, Weather etc.) from websites, which can be  analyzed and used for  R&D.\n",
    "* Pick up song lyrics from a specific Album but you dont want clicking around and doing copy paste\n",
    "* Better way is to automate this extraction process and pull out the informatiom from the HTML script\n",
    "* Automated Job Search: Collect information about job openings and interviews "
   ]
  },
  {
   "cell_type": "markdown",
   "metadata": {},
   "source": [
    "### Objective:\n",
    "* The data on the websites are unstructured. Web scraping helps collect these unstructured data and store it in a structured form.\n",
    "* Case Study: Automatic Gathering of Information about Laptops from \"flipkart\""
   ]
  },
  {
   "cell_type": "markdown",
   "metadata": {},
   "source": [
    "### Is it legal? \n",
    "* Some websites explicitly allow web scraping. Others explicitly forbid it. \n",
    "* Many websites don’t offer any clear guidance one way or the other.\n",
    "* Before scraping any website, we should look for a terms and conditions page to see if there are explicit rules about scraping. If there are, we should follow them. If there are not, then it becomes more of a judgement call."
   ]
  },
  {
   "cell_type": "markdown",
   "metadata": {},
   "source": [
    "### Guidelines\n",
    "* Remember, though, that web scraping consumes server resources for the host website. If we’re just scraping one page once,\n",
    "* that isn’t going to cause a problem. But if our code is scraping 1,000 pages once every ten minutes, \n",
    "* that could quickly get expensive for the website owner.\n",
    "\n",
    "* it’s also a good idea to follow these best practices:\n",
    "\n",
    "* Never scrape more frequently than you need to.\n",
    "* Consider caching the content you scrape so that it’s only downloaded once as you work on the code you’re using to filter\n",
    "* and analyze it, rather than re-downloading every time you run your code\n",
    "* Consider building pauses into your code using functions like time.sleep() to keep from overwhelming servers with too many\n",
    "*requests in too short a timespan."
   ]
  },
  {
   "cell_type": "markdown",
   "metadata": {},
   "source": [
    "###  How to do Web Scraping?\n",
    "#### To extract data using web scraping with python, you need to follow these basic steps:\n",
    "\n",
    "* Find the URL that you want to scrape\n",
    "* Inspecting the Page\n",
    "* Find the data you want to extract\n",
    "* Write the code\n",
    "* Run the code and extract the data\n",
    "* Store the data in the required format "
   ]
  },
  {
   "cell_type": "code",
   "execution_count": 9,
   "metadata": {},
   "outputs": [],
   "source": [
    "# Step1:  Find the URL that you want to scrape\n",
    "# Inspect the  Flipkart website to extract the Price, Name, and Rating of Laptops. \n",
    "# \"https://www.flipkart.com/search?q={0}&page={1}\""
   ]
  },
  {
   "cell_type": "code",
   "execution_count": null,
   "metadata": {},
   "outputs": [],
   "source": [
    "#Step 2: Inspect the page\n",
    "# To inspect the page, just right click on the element and click on “Inspect”. You will see a “Browser Inspector Box” open."
   ]
  },
  {
   "cell_type": "code",
   "execution_count": null,
   "metadata": {},
   "outputs": [],
   "source": [
    "#Step 3: Find the data you want to extract\n",
    "# Here we are interested in the name, price, ratings and Specifications of several Laptops\n",
    "# Specifications include cpu, ram, os, hd, display\n",
    "# So, we inspect the page to see, under which tag the data we want to scrape is nested.\n",
    "# we see that the Price, Name, and Rating which is in the “div” tag respectively"
   ]
  },
  {
   "cell_type": "code",
   "execution_count": null,
   "metadata": {},
   "outputs": [],
   "source": [
    "# Step 4: How to write code  to extract this information\n",
    "#First, you’ll want to get the site’s HTML code into your Python script so that you can interact with it.\n",
    "#page = requests.get(URL)\n",
    "#This code performs an HTTP request to the given URL.\n",
    "# It retrieves the HTML data that the server sends back and  stores that data in a Python object.\n",
    "# For this task, you’ll use Python’s requests library. \n",
    "# Type the following in your terminal to install it: $ pip3 install requests"
   ]
  },
  {
   "cell_type": "code",
   "execution_count": null,
   "metadata": {},
   "outputs": [],
   "source": [
    "# Pick the relevant data\n",
    "# You can parse an HTML response with Beautiful Soup and begin to pick out the relevant data.\n",
    "# The data we want to extract is nested in <div> tags. So, I will find the div tags with those respective class-names, \n",
    "# extract the data and store the data in a variable. Refer the code below:"
   ]
  },
  {
   "cell_type": "code",
   "execution_count": null,
   "metadata": {},
   "outputs": [],
   "source": [
    "# Step 5 and 6: Run the code and store the data in a required format either a csv file or a dataframe"
   ]
  },
  {
   "cell_type": "code",
   "execution_count": 2,
   "metadata": {},
   "outputs": [
    {
     "name": "stdout",
     "output_type": "stream",
     "text": [
      "Collecting fake-useragent\n",
      "  Downloading fake-useragent-0.1.11.tar.gz (13 kB)\n",
      "Building wheels for collected packages: fake-useragent\n",
      "  Building wheel for fake-useragent (setup.py): started\n",
      "  Building wheel for fake-useragent (setup.py): finished with status 'done'\n",
      "  Created wheel for fake-useragent: filename=fake_useragent-0.1.11-py3-none-any.whl size=13489 sha256=1d089bf0b45647b7c03fa7deda9d042555c2d70ef8f5ceb72c915193be7f023d\n",
      "  Stored in directory: c:\\users\\91730\\appdata\\local\\pip\\cache\\wheels\\a0\\b8\\b7\\8c942b2c5be5158b874a88195116b05ad124bac795f6665e65\n",
      "Successfully built fake-useragent\n",
      "Installing collected packages: fake-useragent\n",
      "Successfully installed fake-useragent-0.1.11\n",
      "Note: you may need to restart the kernel to use updated packages.\n"
     ]
    }
   ],
   "source": [
    "#To install fake-useragent. Then only we can import UserAgent\n",
    "\n",
    "pip install fake-useragent"
   ]
  },
  {
   "cell_type": "code",
   "execution_count": 1,
   "metadata": {},
   "outputs": [],
   "source": [
    "# Import Required Libraries\n",
    "import requests      #send request to HTML page\n",
    "import bs4\n",
    "from bs4 import BeautifulSoup     #python library for extracting data\n",
    "\n",
    "from fake_useragent import UserAgent\n",
    "\n",
    "import pandas as pd                       #Further Analysis of the extracted Data\n",
    "import seaborn as sns\n",
    "import matplotlib.pyplot as plt"
   ]
  },
  {
   "cell_type": "code",
   "execution_count": 2,
   "metadata": {},
   "outputs": [],
   "source": [
    "# Initialization of the lists to store the extracted data\n",
    "# The data that we extract is unstructured data. So we’ll create empty lists to store them in a structured form,\n",
    "count=0                  # Intialize search row count\n",
    "products=[]              #List to store name of the product\n",
    "prices=[]                #List to store price of the product\n",
    "ratings=[]               #List to store rating of the product\n",
    "#specifications = []     #List to store specifications of the product\n",
    "cpu = []                 #List to store CPU specifications of the product\n",
    "ram = []                 #List to store RAM specifications of the product\n",
    "os = []                  #List to store OS specifications of the product\n",
    "hd = []                  #List to store HDD specifications of the product\n",
    "display = []             #List to store Display specifications of the product\n",
    "df = pd.DataFrame()      #Initialize Dataframe"
   ]
  },
  {
   "cell_type": "code",
   "execution_count": 3,
   "metadata": {},
   "outputs": [
    {
     "name": "stdout",
     "output_type": "stream",
     "text": [
      "<fake_useragent.fake.FakeUserAgent object at 0x0000021CC5049310>\n"
     ]
    }
   ],
   "source": [
    "# Creating an User agent  pip insatll fake-useragent\n",
    "# A User agent acts as a bridge between the user and the internet . \n",
    "# It gives the webserver necessary information about your browser, software, device type and etc.\n",
    "# According to this information the web servers can display different webpages for you\n",
    "# The web server uses this information to adapt the content to specific web browsers and different OS\n",
    "# https://pypi.org/project/fake-useragent/    # read here\n",
    " \n",
    "user_agent = UserAgent() # Dummy User Agent\n",
    "print(user_agent)"
   ]
  },
  {
   "cell_type": "code",
   "execution_count": 4,
   "metadata": {},
   "outputs": [],
   "source": [
    "# Set the product name. we are searching for laptops\n",
    "# The extracted data will be related to that product.\\ # Search for Laptops\n",
    "product_name = 'laptop'"
   ]
  },
  {
   "cell_type": "code",
   "execution_count": 5,
   "metadata": {},
   "outputs": [
    {
     "name": "stdout",
     "output_type": "stream",
     "text": [
      "https://www.flipkart.com/search?q=laptop&page=1\n"
     ]
    }
   ],
   "source": [
    "# Find Elements by ID\n",
    "#To extract data from multiple pages of the product listing we’re going to use a for loop.\n",
    "# The range will specify the number of pages to be extracted\n",
    "\n",
    "url = \"https://www.flipkart.com/search?q={0}&page={1}\" \n",
    "print( url.format(product_name,1))          #run and check this  "
   ]
  },
  {
   "cell_type": "code",
   "execution_count": 6,
   "metadata": {},
   "outputs": [
    {
     "name": "stdout",
     "output_type": "stream",
     "text": [
      "No. of rows searched 48\n"
     ]
    }
   ],
   "source": [
    "# Limiting search to 3 pages due to multiple redirection issues for higher number of pages\n",
    "\n",
    "for i in range(1,3): \n",
    "    url = \"https://www.flipkart.com/search?q={0}&page={1}\" # Scrape data from Flipkart.com\n",
    "    url = url.format(product_name,i)\n",
    "    #print(url)\n",
    "\n",
    "    ## Getting the reponse from the page using get method of requests module. If you get a response of 200, \n",
    "    #then we are able to do webscraping\n",
    "    page = requests.get(url, headers ={\"User_agent\": user_agent.chrome})\n",
    "    #print(page)\n",
    "    \n",
    "    ## Storing the content of the page in a variable\n",
    "    html = page.content\n",
    "    #print(html)\n",
    "    \n",
    "    # To Extract data from html file --- Creating BeautifulSoup object\n",
    "    page_soup = bs4.BeautifulSoup(html, \"html.parser\")\n",
    "    #print(page_soup.prettify())     #Will show as a clean nested html file\n",
    "    #it gives the visual representation of the parse tree created from the raw HTML content.\n",
    "    \n",
    "    #Iterate over page_soup.find_all('p')    # this will iterate over all paras\n",
    "    #print(page_soup.find_all('p')[0].get_text())\n",
    "    \n",
    "    ## Decoding the tags\n",
    "    #('a',{'class':'_1fQZEK'})\n",
    "    \n",
    "    for containers in page_soup.findAll('a',{'class':'_1fQZEK'}):    # for loop iterating over list\n",
    "        name = containers.find('div', attrs={'class':'_4rR01T'})\n",
    "        price = containers.find('div', attrs={'class':'_30jeq3 _1_WHN1'})\n",
    "        rating = containers.find('div', attrs={'class':'_3LWZlK'})\n",
    "        specification = containers.find('div', attrs={'class':'fMghEO'})\n",
    "        \n",
    "        ## Splitting integrated specification into individual CPU, RAM, OS, HDD and Display specifications\n",
    "        for col in specification:\n",
    "            col = col.find_all('li', attrs={'class':'rgWa7D'})\n",
    "            cput =col[0].text  #CPU info\n",
    "            ramt = col[1].text  #RAM info\n",
    "            ost = col[2].text  #OS info\n",
    "            hdt = col[3].text  #HDD info\n",
    "            displayt = col[4].text  #Display info\n",
    "            \n",
    "        products.append(name.text)  # Add product name to list\n",
    "        \n",
    "        prices.append(price.text)  # Add price to list\n",
    "        \n",
    "        #specifications.append(specification.text) if type(specification) == bs4.element.Tag  else specifications.append('NaN')\n",
    "        \n",
    "        cpu.append(cput)  # Add CPU specifications to list\n",
    "        \n",
    "        ram.append(ramt)  # Add RAM specifications to list\n",
    "        \n",
    "        os.append(ost)  # Add OS specifications to list\n",
    "        \n",
    "        hd.append(hdt) # Add HDD specifications to list\n",
    "        \n",
    "        display.append(displayt) # Add Display specifications to list\n",
    "        \n",
    "        ratings.append(rating.text) if type(rating) == bs4.element.Tag  else ratings.append('NaN') # Add Rating to list\n",
    "        \n",
    "        count = count + 1 # Increment row count\n",
    "    \n",
    "    ## Create a dataframe with structured data from all searched rows\n",
    "    df = pd.DataFrame({'Product Name':products,'CPU':cpu,'RAM':ram,'OS':os,\"HD Capacity\":hd,'Display':display,'Price':prices,'Rating':ratings,})\n",
    "\n",
    "print('No. of rows searched',count)"
   ]
  },
  {
   "cell_type": "code",
   "execution_count": 7,
   "metadata": {},
   "outputs": [
    {
     "data": {
      "text/plain": [
       "(48, 8)"
      ]
     },
     "execution_count": 7,
     "metadata": {},
     "output_type": "execute_result"
    }
   ],
   "source": [
    "df.shape"
   ]
  },
  {
   "cell_type": "code",
   "execution_count": 8,
   "metadata": {},
   "outputs": [
    {
     "data": {
      "text/html": [
       "<div>\n",
       "<style scoped>\n",
       "    .dataframe tbody tr th:only-of-type {\n",
       "        vertical-align: middle;\n",
       "    }\n",
       "\n",
       "    .dataframe tbody tr th {\n",
       "        vertical-align: top;\n",
       "    }\n",
       "\n",
       "    .dataframe thead th {\n",
       "        text-align: right;\n",
       "    }\n",
       "</style>\n",
       "<table border=\"1\" class=\"dataframe\">\n",
       "  <thead>\n",
       "    <tr style=\"text-align: right;\">\n",
       "      <th></th>\n",
       "      <th>Product Name</th>\n",
       "      <th>CPU</th>\n",
       "      <th>RAM</th>\n",
       "      <th>OS</th>\n",
       "      <th>HD Capacity</th>\n",
       "      <th>Display</th>\n",
       "      <th>Price</th>\n",
       "      <th>Rating</th>\n",
       "    </tr>\n",
       "  </thead>\n",
       "  <tbody>\n",
       "    <tr>\n",
       "      <th>0</th>\n",
       "      <td>Mi Notebook 14 Core i5 10th Gen - (8 GB/512 GB...</td>\n",
       "      <td>Intel Core i5 Processor (10th Gen)</td>\n",
       "      <td>8 GB DDR4 RAM</td>\n",
       "      <td>64 bit Windows 10 Operating System</td>\n",
       "      <td>512 GB SSD</td>\n",
       "      <td>35.56 cm (14 inch) Display</td>\n",
       "      <td>₹44,999</td>\n",
       "      <td>4.3</td>\n",
       "    </tr>\n",
       "    <tr>\n",
       "      <th>1</th>\n",
       "      <td>APPLE MacBook Air Core i5 5th Gen - (8 GB/128 ...</td>\n",
       "      <td>Intel Core i5 Processor (5th Gen)</td>\n",
       "      <td>8 GB DDR3 RAM</td>\n",
       "      <td>64 bit Mac OS Operating System</td>\n",
       "      <td>128 GB SSD</td>\n",
       "      <td>33.78 cm (13.3 inch) Display</td>\n",
       "      <td>₹67,990</td>\n",
       "      <td>4.7</td>\n",
       "    </tr>\n",
       "    <tr>\n",
       "      <th>2</th>\n",
       "      <td>acer Aspire 7 Ryzen 5 Hexa Core 5500U - (8 GB/...</td>\n",
       "      <td>AMD Ryzen 5 Hexa Core Processor</td>\n",
       "      <td>8 GB DDR4 RAM</td>\n",
       "      <td>64 bit Windows 10 Operating System</td>\n",
       "      <td>512 GB SSD</td>\n",
       "      <td>39.62 cm (15.6 inch) Display</td>\n",
       "      <td>₹54,990</td>\n",
       "      <td>4.5</td>\n",
       "    </tr>\n",
       "    <tr>\n",
       "      <th>3</th>\n",
       "      <td>HP 14 Core i5 10th Gen - (8 GB/512 GB SSD/Wind...</td>\n",
       "      <td>Intel Core i5 Processor (10th Gen)</td>\n",
       "      <td>8 GB DDR4 RAM</td>\n",
       "      <td>64 bit Windows 10 Operating System</td>\n",
       "      <td>512 GB SSD</td>\n",
       "      <td>35.56 cm (14 inch) Display</td>\n",
       "      <td>₹47,990</td>\n",
       "      <td>4.3</td>\n",
       "    </tr>\n",
       "    <tr>\n",
       "      <th>4</th>\n",
       "      <td>HP 14s Core i3 10th Gen - (8 GB/256 GB SSD/Win...</td>\n",
       "      <td>Intel Core i3 Processor (10th Gen)</td>\n",
       "      <td>8 GB DDR4 RAM</td>\n",
       "      <td>64 bit Windows 10 Operating System</td>\n",
       "      <td>256 GB SSD</td>\n",
       "      <td>35.56 cm (14 inch) Display</td>\n",
       "      <td>₹36,990</td>\n",
       "      <td>4.2</td>\n",
       "    </tr>\n",
       "  </tbody>\n",
       "</table>\n",
       "</div>"
      ],
      "text/plain": [
       "                                        Product Name  \\\n",
       "0  Mi Notebook 14 Core i5 10th Gen - (8 GB/512 GB...   \n",
       "1  APPLE MacBook Air Core i5 5th Gen - (8 GB/128 ...   \n",
       "2  acer Aspire 7 Ryzen 5 Hexa Core 5500U - (8 GB/...   \n",
       "3  HP 14 Core i5 10th Gen - (8 GB/512 GB SSD/Wind...   \n",
       "4  HP 14s Core i3 10th Gen - (8 GB/256 GB SSD/Win...   \n",
       "\n",
       "                                  CPU            RAM  \\\n",
       "0  Intel Core i5 Processor (10th Gen)  8 GB DDR4 RAM   \n",
       "1   Intel Core i5 Processor (5th Gen)  8 GB DDR3 RAM   \n",
       "2     AMD Ryzen 5 Hexa Core Processor  8 GB DDR4 RAM   \n",
       "3  Intel Core i5 Processor (10th Gen)  8 GB DDR4 RAM   \n",
       "4  Intel Core i3 Processor (10th Gen)  8 GB DDR4 RAM   \n",
       "\n",
       "                                   OS HD Capacity  \\\n",
       "0  64 bit Windows 10 Operating System  512 GB SSD   \n",
       "1      64 bit Mac OS Operating System  128 GB SSD   \n",
       "2  64 bit Windows 10 Operating System  512 GB SSD   \n",
       "3  64 bit Windows 10 Operating System  512 GB SSD   \n",
       "4  64 bit Windows 10 Operating System  256 GB SSD   \n",
       "\n",
       "                        Display    Price Rating  \n",
       "0    35.56 cm (14 inch) Display  ₹44,999    4.3  \n",
       "1  33.78 cm (13.3 inch) Display  ₹67,990    4.7  \n",
       "2  39.62 cm (15.6 inch) Display  ₹54,990    4.5  \n",
       "3    35.56 cm (14 inch) Display  ₹47,990    4.3  \n",
       "4    35.56 cm (14 inch) Display  ₹36,990    4.2  "
      ]
     },
     "execution_count": 8,
     "metadata": {},
     "output_type": "execute_result"
    }
   ],
   "source": [
    "df.head()"
   ]
  },
  {
   "cell_type": "code",
   "execution_count": 41,
   "metadata": {},
   "outputs": [
    {
     "data": {
      "text/html": [
       "<div>\n",
       "<style scoped>\n",
       "    .dataframe tbody tr th:only-of-type {\n",
       "        vertical-align: middle;\n",
       "    }\n",
       "\n",
       "    .dataframe tbody tr th {\n",
       "        vertical-align: top;\n",
       "    }\n",
       "\n",
       "    .dataframe thead th {\n",
       "        text-align: right;\n",
       "    }\n",
       "</style>\n",
       "<table border=\"1\" class=\"dataframe\">\n",
       "  <thead>\n",
       "    <tr style=\"text-align: right;\">\n",
       "      <th></th>\n",
       "      <th>Product Name</th>\n",
       "      <th>CPU</th>\n",
       "      <th>RAM</th>\n",
       "      <th>OS</th>\n",
       "      <th>HD Capacity</th>\n",
       "      <th>Display</th>\n",
       "      <th>Price</th>\n",
       "      <th>Rating</th>\n",
       "    </tr>\n",
       "  </thead>\n",
       "  <tbody>\n",
       "    <tr>\n",
       "      <th>43</th>\n",
       "      <td>Asus Core i3 10th Gen - (4 GB/512 GB SSD/Windo...</td>\n",
       "      <td>Intel Core i3 Processor (10th Gen)</td>\n",
       "      <td>4 GB DDR4 RAM</td>\n",
       "      <td>64 bit Windows 10 Operating System</td>\n",
       "      <td>512 GB SSD</td>\n",
       "      <td>35.56 cm (14 inch) Display</td>\n",
       "      <td>₹36,990</td>\n",
       "      <td>4.3</td>\n",
       "    </tr>\n",
       "    <tr>\n",
       "      <th>44</th>\n",
       "      <td>Dell Inspiron 3505 Athlon Dual Core 3150U - (4...</td>\n",
       "      <td>AMD Athlon Dual Core Processor</td>\n",
       "      <td>4 GB DDR4 RAM</td>\n",
       "      <td>64 bit Windows 10 Operating System</td>\n",
       "      <td>256 GB SSD</td>\n",
       "      <td>39.62 cm (15.6 inch) Display</td>\n",
       "      <td>₹29,650</td>\n",
       "      <td>4.8</td>\n",
       "    </tr>\n",
       "    <tr>\n",
       "      <th>45</th>\n",
       "      <td>Asus ROG Strix G15 (2020) Core i7 10th Gen - (...</td>\n",
       "      <td>Intel Core i7 Processor (10th Gen)</td>\n",
       "      <td>16 GB DDR4 RAM</td>\n",
       "      <td>64 bit Windows 10 Operating System</td>\n",
       "      <td>512 GB SSD</td>\n",
       "      <td>39.62 cm (15.6 inch) Display</td>\n",
       "      <td>₹82,990</td>\n",
       "      <td>4.6</td>\n",
       "    </tr>\n",
       "    <tr>\n",
       "      <th>46</th>\n",
       "      <td>Asus VivoBook 14 Core i5 10th Gen - (8 GB/1 TB...</td>\n",
       "      <td>Intel Core i5 Processor (10th Gen)</td>\n",
       "      <td>8 GB DDR4 RAM</td>\n",
       "      <td>64 bit Windows 10 Operating System</td>\n",
       "      <td>1 TB HDD|256 GB SSD</td>\n",
       "      <td>35.56 cm (14 inch) Display</td>\n",
       "      <td>₹55,990</td>\n",
       "      <td>4.3</td>\n",
       "    </tr>\n",
       "    <tr>\n",
       "      <th>47</th>\n",
       "      <td>Dell INSPIRON Core i3 10th Gen - (8 GB/1 TB HD...</td>\n",
       "      <td>Intel Core i3 Processor (10th Gen)</td>\n",
       "      <td>8 GB DDR4 RAM</td>\n",
       "      <td>Windows 10 Operating System</td>\n",
       "      <td>1 TB HDD</td>\n",
       "      <td>39.62 cm (15.6 inch) Display</td>\n",
       "      <td>₹40,690</td>\n",
       "      <td>NaN</td>\n",
       "    </tr>\n",
       "  </tbody>\n",
       "</table>\n",
       "</div>"
      ],
      "text/plain": [
       "                                         Product Name  \\\n",
       "43  Asus Core i3 10th Gen - (4 GB/512 GB SSD/Windo...   \n",
       "44  Dell Inspiron 3505 Athlon Dual Core 3150U - (4...   \n",
       "45  Asus ROG Strix G15 (2020) Core i7 10th Gen - (...   \n",
       "46  Asus VivoBook 14 Core i5 10th Gen - (8 GB/1 TB...   \n",
       "47  Dell INSPIRON Core i3 10th Gen - (8 GB/1 TB HD...   \n",
       "\n",
       "                                   CPU             RAM  \\\n",
       "43  Intel Core i3 Processor (10th Gen)   4 GB DDR4 RAM   \n",
       "44      AMD Athlon Dual Core Processor   4 GB DDR4 RAM   \n",
       "45  Intel Core i7 Processor (10th Gen)  16 GB DDR4 RAM   \n",
       "46  Intel Core i5 Processor (10th Gen)   8 GB DDR4 RAM   \n",
       "47  Intel Core i3 Processor (10th Gen)   8 GB DDR4 RAM   \n",
       "\n",
       "                                    OS          HD Capacity  \\\n",
       "43  64 bit Windows 10 Operating System           512 GB SSD   \n",
       "44  64 bit Windows 10 Operating System           256 GB SSD   \n",
       "45  64 bit Windows 10 Operating System           512 GB SSD   \n",
       "46  64 bit Windows 10 Operating System  1 TB HDD|256 GB SSD   \n",
       "47         Windows 10 Operating System             1 TB HDD   \n",
       "\n",
       "                         Display    Price Rating  \n",
       "43    35.56 cm (14 inch) Display  ₹36,990    4.3  \n",
       "44  39.62 cm (15.6 inch) Display  ₹29,650    4.8  \n",
       "45  39.62 cm (15.6 inch) Display  ₹82,990    4.6  \n",
       "46    35.56 cm (14 inch) Display  ₹55,990    4.3  \n",
       "47  39.62 cm (15.6 inch) Display  ₹40,690    NaN  "
      ]
     },
     "execution_count": 41,
     "metadata": {},
     "output_type": "execute_result"
    }
   ],
   "source": [
    "df.tail()"
   ]
  },
  {
   "cell_type": "code",
   "execution_count": 44,
   "metadata": {},
   "outputs": [
    {
     "name": "stdout",
     "output_type": "stream",
     "text": [
      "<class 'pandas.core.frame.DataFrame'>\n",
      "RangeIndex: 48 entries, 0 to 47\n",
      "Data columns (total 8 columns):\n",
      " #   Column        Non-Null Count  Dtype \n",
      "---  ------        --------------  ----- \n",
      " 0   Product Name  48 non-null     object\n",
      " 1   CPU           48 non-null     object\n",
      " 2   RAM           48 non-null     object\n",
      " 3   OS            48 non-null     object\n",
      " 4   HD Capacity   48 non-null     object\n",
      " 5   Display       48 non-null     object\n",
      " 6   Price         48 non-null     object\n",
      " 7   Rating        48 non-null     object\n",
      "dtypes: object(8)\n",
      "memory usage: 3.1+ KB\n"
     ]
    }
   ],
   "source": [
    "df.info()"
   ]
  },
  {
   "cell_type": "code",
   "execution_count": 45,
   "metadata": {},
   "outputs": [
    {
     "data": {
      "text/plain": [
       "Product Name    0\n",
       "CPU             0\n",
       "RAM             0\n",
       "OS              0\n",
       "HD Capacity     0\n",
       "Display         0\n",
       "Price           0\n",
       "Rating          0\n",
       "dtype: int64"
      ]
     },
     "execution_count": 45,
     "metadata": {},
     "output_type": "execute_result"
    }
   ],
   "source": [
    "df.isnull().sum()  #Check for Null values"
   ]
  },
  {
   "cell_type": "code",
   "execution_count": 50,
   "metadata": {},
   "outputs": [
    {
     "data": {
      "text/plain": [
       "Product Name    0\n",
       "CPU             0\n",
       "RAM             0\n",
       "OS              0\n",
       "HD Capacity     0\n",
       "Display         0\n",
       "Price           0\n",
       "Rating          0\n",
       "dtype: int64"
      ]
     },
     "execution_count": 50,
     "metadata": {},
     "output_type": "execute_result"
    }
   ],
   "source": [
    "df.isna().sum()  #Check for NaN values"
   ]
  },
  {
   "cell_type": "code",
   "execution_count": 48,
   "metadata": {},
   "outputs": [
    {
     "data": {
      "text/html": [
       "<div>\n",
       "<style scoped>\n",
       "    .dataframe tbody tr th:only-of-type {\n",
       "        vertical-align: middle;\n",
       "    }\n",
       "\n",
       "    .dataframe tbody tr th {\n",
       "        vertical-align: top;\n",
       "    }\n",
       "\n",
       "    .dataframe thead th {\n",
       "        text-align: right;\n",
       "    }\n",
       "</style>\n",
       "<table border=\"1\" class=\"dataframe\">\n",
       "  <thead>\n",
       "    <tr style=\"text-align: right;\">\n",
       "      <th></th>\n",
       "      <th>Product Name</th>\n",
       "      <th>CPU</th>\n",
       "      <th>RAM</th>\n",
       "      <th>OS</th>\n",
       "      <th>HD Capacity</th>\n",
       "      <th>Display</th>\n",
       "      <th>Price</th>\n",
       "      <th>Rating</th>\n",
       "    </tr>\n",
       "  </thead>\n",
       "  <tbody>\n",
       "    <tr>\n",
       "      <th>count</th>\n",
       "      <td>48</td>\n",
       "      <td>48</td>\n",
       "      <td>48</td>\n",
       "      <td>48</td>\n",
       "      <td>48</td>\n",
       "      <td>48</td>\n",
       "      <td>48</td>\n",
       "      <td>48</td>\n",
       "    </tr>\n",
       "    <tr>\n",
       "      <th>unique</th>\n",
       "      <td>48</td>\n",
       "      <td>15</td>\n",
       "      <td>5</td>\n",
       "      <td>4</td>\n",
       "      <td>5</td>\n",
       "      <td>5</td>\n",
       "      <td>38</td>\n",
       "      <td>11</td>\n",
       "    </tr>\n",
       "    <tr>\n",
       "      <th>top</th>\n",
       "      <td>Asus VivoBook 14 Ryzen 5 Quad Core 3500U - (8 ...</td>\n",
       "      <td>Intel Core i3 Processor (10th Gen)</td>\n",
       "      <td>8 GB DDR4 RAM</td>\n",
       "      <td>64 bit Windows 10 Operating System</td>\n",
       "      <td>512 GB SSD</td>\n",
       "      <td>39.62 cm (15.6 inch) Display</td>\n",
       "      <td>₹51,990</td>\n",
       "      <td>4.3</td>\n",
       "    </tr>\n",
       "    <tr>\n",
       "      <th>freq</th>\n",
       "      <td>1</td>\n",
       "      <td>12</td>\n",
       "      <td>25</td>\n",
       "      <td>44</td>\n",
       "      <td>15</td>\n",
       "      <td>23</td>\n",
       "      <td>3</td>\n",
       "      <td>10</td>\n",
       "    </tr>\n",
       "  </tbody>\n",
       "</table>\n",
       "</div>"
      ],
      "text/plain": [
       "                                             Product Name  \\\n",
       "count                                                  48   \n",
       "unique                                                 48   \n",
       "top     Asus VivoBook 14 Ryzen 5 Quad Core 3500U - (8 ...   \n",
       "freq                                                    1   \n",
       "\n",
       "                                       CPU            RAM  \\\n",
       "count                                   48             48   \n",
       "unique                                  15              5   \n",
       "top     Intel Core i3 Processor (10th Gen)  8 GB DDR4 RAM   \n",
       "freq                                    12             25   \n",
       "\n",
       "                                        OS HD Capacity  \\\n",
       "count                                   48          48   \n",
       "unique                                   4           5   \n",
       "top     64 bit Windows 10 Operating System  512 GB SSD   \n",
       "freq                                    44          15   \n",
       "\n",
       "                             Display    Price Rating  \n",
       "count                             48       48     48  \n",
       "unique                             5       38     11  \n",
       "top     39.62 cm (15.6 inch) Display  ₹51,990    4.3  \n",
       "freq                              23        3     10  "
      ]
     },
     "execution_count": 48,
     "metadata": {},
     "output_type": "execute_result"
    }
   ],
   "source": [
    "df.describe()"
   ]
  },
  {
   "cell_type": "code",
   "execution_count": 49,
   "metadata": {},
   "outputs": [
    {
     "data": {
      "text/plain": [
       "Product Name    object\n",
       "CPU             object\n",
       "RAM             object\n",
       "OS              object\n",
       "HD Capacity     object\n",
       "Display         object\n",
       "Price           object\n",
       "Rating          object\n",
       "dtype: object"
      ]
     },
     "execution_count": 49,
     "metadata": {},
     "output_type": "execute_result"
    }
   ],
   "source": [
    "df.dtypes"
   ]
  },
  {
   "cell_type": "code",
   "execution_count": 51,
   "metadata": {},
   "outputs": [
    {
     "data": {
      "text/plain": [
       "Int64Index([], dtype='int64')"
      ]
     },
     "execution_count": 51,
     "metadata": {},
     "output_type": "execute_result"
    }
   ],
   "source": [
    "#Identify rows with wrongly positioned data i.e. a particular data misplaced under a different column\n",
    "\n",
    "a = df[(~df['CPU'].str.contains('Processor'))|(~df['RAM'].str.contains('RAM'))|(~df['OS'].str.contains('Operating'))|(~df['HD Capacity'].str.contains('GB|TB'))].index\n",
    "a  #Save index information of such rows"
   ]
  },
  {
   "cell_type": "code",
   "execution_count": 52,
   "metadata": {},
   "outputs": [],
   "source": [
    "df = df.drop(a, axis=0)  #Drop rows with wrongly positioned data elements "
   ]
  },
  {
   "cell_type": "code",
   "execution_count": 53,
   "metadata": {},
   "outputs": [
    {
     "data": {
      "text/plain": [
       "(48, 8)"
      ]
     },
     "execution_count": 53,
     "metadata": {},
     "output_type": "execute_result"
    }
   ],
   "source": [
    "df.shape"
   ]
  },
  {
   "cell_type": "code",
   "execution_count": 54,
   "metadata": {},
   "outputs": [
    {
     "data": {
      "text/html": [
       "<div>\n",
       "<style scoped>\n",
       "    .dataframe tbody tr th:only-of-type {\n",
       "        vertical-align: middle;\n",
       "    }\n",
       "\n",
       "    .dataframe tbody tr th {\n",
       "        vertical-align: top;\n",
       "    }\n",
       "\n",
       "    .dataframe thead th {\n",
       "        text-align: right;\n",
       "    }\n",
       "</style>\n",
       "<table border=\"1\" class=\"dataframe\">\n",
       "  <thead>\n",
       "    <tr style=\"text-align: right;\">\n",
       "      <th></th>\n",
       "      <th>Product Name</th>\n",
       "      <th>CPU</th>\n",
       "      <th>RAM</th>\n",
       "      <th>OS</th>\n",
       "      <th>HD Capacity</th>\n",
       "      <th>Display</th>\n",
       "      <th>Price</th>\n",
       "      <th>Rating</th>\n",
       "    </tr>\n",
       "  </thead>\n",
       "  <tbody>\n",
       "    <tr>\n",
       "      <th>0</th>\n",
       "      <td>HP 15s Celeron Dual Core - (4 GB/1 TB HDD/Wind...</td>\n",
       "      <td>Intel Celeron Dual Core Processor</td>\n",
       "      <td>4 GB DDR4 RAM</td>\n",
       "      <td>64 bit Windows 10 Operating System</td>\n",
       "      <td>1 TB HDD</td>\n",
       "      <td>39.62 cm (15.6 inch) Display</td>\n",
       "      <td>₹23,990</td>\n",
       "      <td>4</td>\n",
       "    </tr>\n",
       "    <tr>\n",
       "      <th>1</th>\n",
       "      <td>HP Pavilion Gaming Ryzen 5 Quad Core 3550H - (...</td>\n",
       "      <td>AMD Ryzen 5 Quad Core Processor</td>\n",
       "      <td>8 GB DDR4 RAM</td>\n",
       "      <td>64 bit Windows 10 Operating System</td>\n",
       "      <td>1 TB HDD</td>\n",
       "      <td>39.62 cm (15.6 inch) Display</td>\n",
       "      <td>₹52,990</td>\n",
       "      <td>4.2</td>\n",
       "    </tr>\n",
       "    <tr>\n",
       "      <th>2</th>\n",
       "      <td>Lenovo Ideapad Slim 3i Core i3 10th Gen - (8 G...</td>\n",
       "      <td>Intel Core i3 Processor (10th Gen)</td>\n",
       "      <td>8 GB DDR4 RAM</td>\n",
       "      <td>64 bit Windows 10 Operating System</td>\n",
       "      <td>256 GB SSD</td>\n",
       "      <td>35.56 cm (14 inch) Display</td>\n",
       "      <td>₹35,990</td>\n",
       "      <td>4.5</td>\n",
       "    </tr>\n",
       "    <tr>\n",
       "      <th>3</th>\n",
       "      <td>MSI Modern 14 Ryzen 5 Hexa Core 4500U - (8 GB/...</td>\n",
       "      <td>AMD Ryzen 5 Hexa Core Processor</td>\n",
       "      <td>8 GB DDR4 RAM</td>\n",
       "      <td>64 bit Windows 10 Operating System</td>\n",
       "      <td>512 GB SSD</td>\n",
       "      <td>35.56 cm (14 inch) Display</td>\n",
       "      <td>₹51,990</td>\n",
       "      <td>4.6</td>\n",
       "    </tr>\n",
       "    <tr>\n",
       "      <th>4</th>\n",
       "      <td>Asus Core i3 10th Gen - (4 GB/512 GB SSD/Windo...</td>\n",
       "      <td>Intel Core i3 Processor (10th Gen)</td>\n",
       "      <td>4 GB DDR4 RAM</td>\n",
       "      <td>64 bit Windows 10 Operating System</td>\n",
       "      <td>512 GB SSD</td>\n",
       "      <td>35.56 cm (14 inch) Display</td>\n",
       "      <td>₹36,990</td>\n",
       "      <td>4.3</td>\n",
       "    </tr>\n",
       "  </tbody>\n",
       "</table>\n",
       "</div>"
      ],
      "text/plain": [
       "                                        Product Name  \\\n",
       "0  HP 15s Celeron Dual Core - (4 GB/1 TB HDD/Wind...   \n",
       "1  HP Pavilion Gaming Ryzen 5 Quad Core 3550H - (...   \n",
       "2  Lenovo Ideapad Slim 3i Core i3 10th Gen - (8 G...   \n",
       "3  MSI Modern 14 Ryzen 5 Hexa Core 4500U - (8 GB/...   \n",
       "4  Asus Core i3 10th Gen - (4 GB/512 GB SSD/Windo...   \n",
       "\n",
       "                                  CPU            RAM  \\\n",
       "0   Intel Celeron Dual Core Processor  4 GB DDR4 RAM   \n",
       "1     AMD Ryzen 5 Quad Core Processor  8 GB DDR4 RAM   \n",
       "2  Intel Core i3 Processor (10th Gen)  8 GB DDR4 RAM   \n",
       "3     AMD Ryzen 5 Hexa Core Processor  8 GB DDR4 RAM   \n",
       "4  Intel Core i3 Processor (10th Gen)  4 GB DDR4 RAM   \n",
       "\n",
       "                                   OS HD Capacity  \\\n",
       "0  64 bit Windows 10 Operating System    1 TB HDD   \n",
       "1  64 bit Windows 10 Operating System    1 TB HDD   \n",
       "2  64 bit Windows 10 Operating System  256 GB SSD   \n",
       "3  64 bit Windows 10 Operating System  512 GB SSD   \n",
       "4  64 bit Windows 10 Operating System  512 GB SSD   \n",
       "\n",
       "                        Display    Price Rating  \n",
       "0  39.62 cm (15.6 inch) Display  ₹23,990      4  \n",
       "1  39.62 cm (15.6 inch) Display  ₹52,990    4.2  \n",
       "2    35.56 cm (14 inch) Display  ₹35,990    4.5  \n",
       "3    35.56 cm (14 inch) Display  ₹51,990    4.6  \n",
       "4    35.56 cm (14 inch) Display  ₹36,990    4.3  "
      ]
     },
     "execution_count": 54,
     "metadata": {},
     "output_type": "execute_result"
    }
   ],
   "source": [
    "df.head()"
   ]
  },
  {
   "cell_type": "code",
   "execution_count": 55,
   "metadata": {},
   "outputs": [],
   "source": [
    "# Format Price column to remove ₹ and delimiter ',' used for the thousandth place \n",
    "\n",
    "df['Price'] = df['Price'].str.lstrip('₹')\n",
    "df['Price'] = df['Price'].replace({',' : ''}, regex=True)"
   ]
  },
  {
   "cell_type": "code",
   "execution_count": 56,
   "metadata": {},
   "outputs": [
    {
     "data": {
      "text/html": [
       "<div>\n",
       "<style scoped>\n",
       "    .dataframe tbody tr th:only-of-type {\n",
       "        vertical-align: middle;\n",
       "    }\n",
       "\n",
       "    .dataframe tbody tr th {\n",
       "        vertical-align: top;\n",
       "    }\n",
       "\n",
       "    .dataframe thead th {\n",
       "        text-align: right;\n",
       "    }\n",
       "</style>\n",
       "<table border=\"1\" class=\"dataframe\">\n",
       "  <thead>\n",
       "    <tr style=\"text-align: right;\">\n",
       "      <th></th>\n",
       "      <th>Product Name</th>\n",
       "      <th>CPU</th>\n",
       "      <th>RAM</th>\n",
       "      <th>OS</th>\n",
       "      <th>HD Capacity</th>\n",
       "      <th>Display</th>\n",
       "      <th>Price</th>\n",
       "      <th>Rating</th>\n",
       "    </tr>\n",
       "  </thead>\n",
       "  <tbody>\n",
       "    <tr>\n",
       "      <th>0</th>\n",
       "      <td>HP 15s Celeron Dual Core - (4 GB/1 TB HDD/Wind...</td>\n",
       "      <td>Intel Celeron Dual Core Processor</td>\n",
       "      <td>4 GB DDR4 RAM</td>\n",
       "      <td>64 bit Windows 10 Operating System</td>\n",
       "      <td>1 TB HDD</td>\n",
       "      <td>39.62 cm (15.6 inch) Display</td>\n",
       "      <td>23990</td>\n",
       "      <td>4</td>\n",
       "    </tr>\n",
       "    <tr>\n",
       "      <th>1</th>\n",
       "      <td>HP Pavilion Gaming Ryzen 5 Quad Core 3550H - (...</td>\n",
       "      <td>AMD Ryzen 5 Quad Core Processor</td>\n",
       "      <td>8 GB DDR4 RAM</td>\n",
       "      <td>64 bit Windows 10 Operating System</td>\n",
       "      <td>1 TB HDD</td>\n",
       "      <td>39.62 cm (15.6 inch) Display</td>\n",
       "      <td>52990</td>\n",
       "      <td>4.2</td>\n",
       "    </tr>\n",
       "    <tr>\n",
       "      <th>2</th>\n",
       "      <td>Lenovo Ideapad Slim 3i Core i3 10th Gen - (8 G...</td>\n",
       "      <td>Intel Core i3 Processor (10th Gen)</td>\n",
       "      <td>8 GB DDR4 RAM</td>\n",
       "      <td>64 bit Windows 10 Operating System</td>\n",
       "      <td>256 GB SSD</td>\n",
       "      <td>35.56 cm (14 inch) Display</td>\n",
       "      <td>35990</td>\n",
       "      <td>4.5</td>\n",
       "    </tr>\n",
       "    <tr>\n",
       "      <th>3</th>\n",
       "      <td>MSI Modern 14 Ryzen 5 Hexa Core 4500U - (8 GB/...</td>\n",
       "      <td>AMD Ryzen 5 Hexa Core Processor</td>\n",
       "      <td>8 GB DDR4 RAM</td>\n",
       "      <td>64 bit Windows 10 Operating System</td>\n",
       "      <td>512 GB SSD</td>\n",
       "      <td>35.56 cm (14 inch) Display</td>\n",
       "      <td>51990</td>\n",
       "      <td>4.6</td>\n",
       "    </tr>\n",
       "    <tr>\n",
       "      <th>4</th>\n",
       "      <td>Asus Core i3 10th Gen - (4 GB/512 GB SSD/Windo...</td>\n",
       "      <td>Intel Core i3 Processor (10th Gen)</td>\n",
       "      <td>4 GB DDR4 RAM</td>\n",
       "      <td>64 bit Windows 10 Operating System</td>\n",
       "      <td>512 GB SSD</td>\n",
       "      <td>35.56 cm (14 inch) Display</td>\n",
       "      <td>36990</td>\n",
       "      <td>4.3</td>\n",
       "    </tr>\n",
       "  </tbody>\n",
       "</table>\n",
       "</div>"
      ],
      "text/plain": [
       "                                        Product Name  \\\n",
       "0  HP 15s Celeron Dual Core - (4 GB/1 TB HDD/Wind...   \n",
       "1  HP Pavilion Gaming Ryzen 5 Quad Core 3550H - (...   \n",
       "2  Lenovo Ideapad Slim 3i Core i3 10th Gen - (8 G...   \n",
       "3  MSI Modern 14 Ryzen 5 Hexa Core 4500U - (8 GB/...   \n",
       "4  Asus Core i3 10th Gen - (4 GB/512 GB SSD/Windo...   \n",
       "\n",
       "                                  CPU            RAM  \\\n",
       "0   Intel Celeron Dual Core Processor  4 GB DDR4 RAM   \n",
       "1     AMD Ryzen 5 Quad Core Processor  8 GB DDR4 RAM   \n",
       "2  Intel Core i3 Processor (10th Gen)  8 GB DDR4 RAM   \n",
       "3     AMD Ryzen 5 Hexa Core Processor  8 GB DDR4 RAM   \n",
       "4  Intel Core i3 Processor (10th Gen)  4 GB DDR4 RAM   \n",
       "\n",
       "                                   OS HD Capacity  \\\n",
       "0  64 bit Windows 10 Operating System    1 TB HDD   \n",
       "1  64 bit Windows 10 Operating System    1 TB HDD   \n",
       "2  64 bit Windows 10 Operating System  256 GB SSD   \n",
       "3  64 bit Windows 10 Operating System  512 GB SSD   \n",
       "4  64 bit Windows 10 Operating System  512 GB SSD   \n",
       "\n",
       "                        Display  Price Rating  \n",
       "0  39.62 cm (15.6 inch) Display  23990      4  \n",
       "1  39.62 cm (15.6 inch) Display  52990    4.2  \n",
       "2    35.56 cm (14 inch) Display  35990    4.5  \n",
       "3    35.56 cm (14 inch) Display  51990    4.6  \n",
       "4    35.56 cm (14 inch) Display  36990    4.3  "
      ]
     },
     "execution_count": 56,
     "metadata": {},
     "output_type": "execute_result"
    }
   ],
   "source": [
    "df.head() # Check if formatting is correct"
   ]
  },
  {
   "cell_type": "code",
   "execution_count": 58,
   "metadata": {},
   "outputs": [
    {
     "data": {
      "text/plain": [
       "Product Name    object\n",
       "CPU             object\n",
       "RAM             object\n",
       "OS              object\n",
       "HD Capacity     object\n",
       "Display         object\n",
       "Price           object\n",
       "Rating          object\n",
       "dtype: object"
      ]
     },
     "execution_count": 58,
     "metadata": {},
     "output_type": "execute_result"
    }
   ],
   "source": [
    "df.dtypes"
   ]
  },
  {
   "cell_type": "code",
   "execution_count": 60,
   "metadata": {},
   "outputs": [],
   "source": [
    "# Convert numeric columns in string format to float for mathematical and graphic operations\n",
    "#for i in range(6,8,1):\n",
    "    #df.iloc[:,i]= df.iloc[:,i].astype(float)   #for loop is used if many values are to be changed\n",
    "    \n",
    "    \n",
    "df.iloc[:,6]= df.iloc[:,6].astype(float)\n",
    "df.iloc[:,7]= df.iloc[:,7].astype(float)"
   ]
  },
  {
   "cell_type": "code",
   "execution_count": 61,
   "metadata": {},
   "outputs": [
    {
     "data": {
      "text/plain": [
       "Product Name     object\n",
       "CPU              object\n",
       "RAM              object\n",
       "OS               object\n",
       "HD Capacity      object\n",
       "Display          object\n",
       "Price           float64\n",
       "Rating          float64\n",
       "dtype: object"
      ]
     },
     "execution_count": 61,
     "metadata": {},
     "output_type": "execute_result"
    }
   ],
   "source": [
    "df.dtypes"
   ]
  },
  {
   "cell_type": "code",
   "execution_count": 62,
   "metadata": {},
   "outputs": [
    {
     "data": {
      "text/html": [
       "<div>\n",
       "<style scoped>\n",
       "    .dataframe tbody tr th:only-of-type {\n",
       "        vertical-align: middle;\n",
       "    }\n",
       "\n",
       "    .dataframe tbody tr th {\n",
       "        vertical-align: top;\n",
       "    }\n",
       "\n",
       "    .dataframe thead th {\n",
       "        text-align: right;\n",
       "    }\n",
       "</style>\n",
       "<table border=\"1\" class=\"dataframe\">\n",
       "  <thead>\n",
       "    <tr style=\"text-align: right;\">\n",
       "      <th></th>\n",
       "      <th>Product Name</th>\n",
       "      <th>CPU</th>\n",
       "      <th>RAM</th>\n",
       "      <th>OS</th>\n",
       "      <th>HD Capacity</th>\n",
       "      <th>Display</th>\n",
       "      <th>Price</th>\n",
       "      <th>Rating</th>\n",
       "    </tr>\n",
       "  </thead>\n",
       "  <tbody>\n",
       "    <tr>\n",
       "      <th>0</th>\n",
       "      <td>HP 15s Celeron Dual Core - (4 GB/1 TB HDD/Wind...</td>\n",
       "      <td>Intel Celeron Dual Core Processor</td>\n",
       "      <td>4 GB DDR4 RAM</td>\n",
       "      <td>64 bit Windows 10 Operating System</td>\n",
       "      <td>1 TB HDD</td>\n",
       "      <td>39.62 cm (15.6 inch) Display</td>\n",
       "      <td>23990.0</td>\n",
       "      <td>4.0</td>\n",
       "    </tr>\n",
       "    <tr>\n",
       "      <th>1</th>\n",
       "      <td>HP Pavilion Gaming Ryzen 5 Quad Core 3550H - (...</td>\n",
       "      <td>AMD Ryzen 5 Quad Core Processor</td>\n",
       "      <td>8 GB DDR4 RAM</td>\n",
       "      <td>64 bit Windows 10 Operating System</td>\n",
       "      <td>1 TB HDD</td>\n",
       "      <td>39.62 cm (15.6 inch) Display</td>\n",
       "      <td>52990.0</td>\n",
       "      <td>4.2</td>\n",
       "    </tr>\n",
       "    <tr>\n",
       "      <th>2</th>\n",
       "      <td>Lenovo Ideapad Slim 3i Core i3 10th Gen - (8 G...</td>\n",
       "      <td>Intel Core i3 Processor (10th Gen)</td>\n",
       "      <td>8 GB DDR4 RAM</td>\n",
       "      <td>64 bit Windows 10 Operating System</td>\n",
       "      <td>256 GB SSD</td>\n",
       "      <td>35.56 cm (14 inch) Display</td>\n",
       "      <td>35990.0</td>\n",
       "      <td>4.5</td>\n",
       "    </tr>\n",
       "    <tr>\n",
       "      <th>3</th>\n",
       "      <td>MSI Modern 14 Ryzen 5 Hexa Core 4500U - (8 GB/...</td>\n",
       "      <td>AMD Ryzen 5 Hexa Core Processor</td>\n",
       "      <td>8 GB DDR4 RAM</td>\n",
       "      <td>64 bit Windows 10 Operating System</td>\n",
       "      <td>512 GB SSD</td>\n",
       "      <td>35.56 cm (14 inch) Display</td>\n",
       "      <td>51990.0</td>\n",
       "      <td>4.6</td>\n",
       "    </tr>\n",
       "    <tr>\n",
       "      <th>4</th>\n",
       "      <td>Asus Core i3 10th Gen - (4 GB/512 GB SSD/Windo...</td>\n",
       "      <td>Intel Core i3 Processor (10th Gen)</td>\n",
       "      <td>4 GB DDR4 RAM</td>\n",
       "      <td>64 bit Windows 10 Operating System</td>\n",
       "      <td>512 GB SSD</td>\n",
       "      <td>35.56 cm (14 inch) Display</td>\n",
       "      <td>36990.0</td>\n",
       "      <td>4.3</td>\n",
       "    </tr>\n",
       "  </tbody>\n",
       "</table>\n",
       "</div>"
      ],
      "text/plain": [
       "                                        Product Name  \\\n",
       "0  HP 15s Celeron Dual Core - (4 GB/1 TB HDD/Wind...   \n",
       "1  HP Pavilion Gaming Ryzen 5 Quad Core 3550H - (...   \n",
       "2  Lenovo Ideapad Slim 3i Core i3 10th Gen - (8 G...   \n",
       "3  MSI Modern 14 Ryzen 5 Hexa Core 4500U - (8 GB/...   \n",
       "4  Asus Core i3 10th Gen - (4 GB/512 GB SSD/Windo...   \n",
       "\n",
       "                                  CPU            RAM  \\\n",
       "0   Intel Celeron Dual Core Processor  4 GB DDR4 RAM   \n",
       "1     AMD Ryzen 5 Quad Core Processor  8 GB DDR4 RAM   \n",
       "2  Intel Core i3 Processor (10th Gen)  8 GB DDR4 RAM   \n",
       "3     AMD Ryzen 5 Hexa Core Processor  8 GB DDR4 RAM   \n",
       "4  Intel Core i3 Processor (10th Gen)  4 GB DDR4 RAM   \n",
       "\n",
       "                                   OS HD Capacity  \\\n",
       "0  64 bit Windows 10 Operating System    1 TB HDD   \n",
       "1  64 bit Windows 10 Operating System    1 TB HDD   \n",
       "2  64 bit Windows 10 Operating System  256 GB SSD   \n",
       "3  64 bit Windows 10 Operating System  512 GB SSD   \n",
       "4  64 bit Windows 10 Operating System  512 GB SSD   \n",
       "\n",
       "                        Display    Price  Rating  \n",
       "0  39.62 cm (15.6 inch) Display  23990.0     4.0  \n",
       "1  39.62 cm (15.6 inch) Display  52990.0     4.2  \n",
       "2    35.56 cm (14 inch) Display  35990.0     4.5  \n",
       "3    35.56 cm (14 inch) Display  51990.0     4.6  \n",
       "4    35.56 cm (14 inch) Display  36990.0     4.3  "
      ]
     },
     "execution_count": 62,
     "metadata": {},
     "output_type": "execute_result"
    }
   ],
   "source": [
    "df.head()"
   ]
  },
  {
   "cell_type": "code",
   "execution_count": 63,
   "metadata": {},
   "outputs": [
    {
     "data": {
      "text/html": [
       "<div>\n",
       "<style scoped>\n",
       "    .dataframe tbody tr th:only-of-type {\n",
       "        vertical-align: middle;\n",
       "    }\n",
       "\n",
       "    .dataframe tbody tr th {\n",
       "        vertical-align: top;\n",
       "    }\n",
       "\n",
       "    .dataframe thead th {\n",
       "        text-align: right;\n",
       "    }\n",
       "</style>\n",
       "<table border=\"1\" class=\"dataframe\">\n",
       "  <thead>\n",
       "    <tr style=\"text-align: right;\">\n",
       "      <th></th>\n",
       "      <th>Price</th>\n",
       "      <th>Rating</th>\n",
       "    </tr>\n",
       "  </thead>\n",
       "  <tbody>\n",
       "    <tr>\n",
       "      <th>count</th>\n",
       "      <td>48.000000</td>\n",
       "      <td>45.000000</td>\n",
       "    </tr>\n",
       "    <tr>\n",
       "      <th>mean</th>\n",
       "      <td>51341.812500</td>\n",
       "      <td>4.362222</td>\n",
       "    </tr>\n",
       "    <tr>\n",
       "      <th>std</th>\n",
       "      <td>20006.446506</td>\n",
       "      <td>0.231879</td>\n",
       "    </tr>\n",
       "    <tr>\n",
       "      <th>min</th>\n",
       "      <td>21990.000000</td>\n",
       "      <td>3.800000</td>\n",
       "    </tr>\n",
       "    <tr>\n",
       "      <th>25%</th>\n",
       "      <td>35365.000000</td>\n",
       "      <td>4.300000</td>\n",
       "    </tr>\n",
       "    <tr>\n",
       "      <th>50%</th>\n",
       "      <td>51190.000000</td>\n",
       "      <td>4.400000</td>\n",
       "    </tr>\n",
       "    <tr>\n",
       "      <th>75%</th>\n",
       "      <td>59990.000000</td>\n",
       "      <td>4.500000</td>\n",
       "    </tr>\n",
       "    <tr>\n",
       "      <th>max</th>\n",
       "      <td>109990.000000</td>\n",
       "      <td>4.800000</td>\n",
       "    </tr>\n",
       "  </tbody>\n",
       "</table>\n",
       "</div>"
      ],
      "text/plain": [
       "               Price     Rating\n",
       "count      48.000000  45.000000\n",
       "mean    51341.812500   4.362222\n",
       "std     20006.446506   0.231879\n",
       "min     21990.000000   3.800000\n",
       "25%     35365.000000   4.300000\n",
       "50%     51190.000000   4.400000\n",
       "75%     59990.000000   4.500000\n",
       "max    109990.000000   4.800000"
      ]
     },
     "execution_count": 63,
     "metadata": {},
     "output_type": "execute_result"
    }
   ],
   "source": [
    "df.describe()"
   ]
  },
  {
   "cell_type": "code",
   "execution_count": 64,
   "metadata": {},
   "outputs": [],
   "source": [
    "# write and Save cleaned and processed data to a CSV file\n",
    "\n",
    "df.to_csv('WebScrapingLaptops.csv', index=False)"
   ]
  },
  {
   "cell_type": "markdown",
   "metadata": {},
   "source": [
    "# Univariate Analysis Plot Histograms and  BoxPlots"
   ]
  },
  {
   "cell_type": "code",
   "execution_count": 65,
   "metadata": {},
   "outputs": [
    {
     "data": {
      "image/png": "[encoded data removed]",
      "text/plain": [
       "<Figure size 1008x360 with 2 Axes>"
      ]
     },
     "metadata": {
      "needs_background": "light"
     },
     "output_type": "display_data"
    }
   ],
   "source": [
    "# Plot Histograms of Price and Rating\n",
    "\n",
    "df.hist(figsize=(14,5))\n",
    "plt.show()"
   ]
  },
  {
   "cell_type": "code",
   "execution_count": 66,
   "metadata": {},
   "outputs": [
    {
     "data": {
      "image/png": "[encoded data removed]",
      "text/plain": [
       "<Figure size 432x288 with 1 Axes>"
      ]
     },
     "metadata": {
      "needs_background": "light"
     },
     "output_type": "display_data"
    },
    {
     "data": {
      "image/png": "[encoded data removed]",
      "text/plain": [
       "<Figure size 432x288 with 1 Axes>"
      ]
     },
     "metadata": {
      "needs_background": "light"
     },
     "output_type": "display_data"
    }
   ],
   "source": [
    "# Plot Distibution Plots of Price and Rating\n",
    "\n",
    "columns=['Price','Rating']\n",
    "for i in columns:\n",
    "    sns.kdeplot(df[i],shade=True)\n",
    "    plt.xlabel(i, fontsize=18)\n",
    "    plt.ylabel('Distribution', fontsize=16)\n",
    "    plt.show()"
   ]
  },
  {
   "cell_type": "code",
   "execution_count": 68,
   "metadata": {},
   "outputs": [
    {
     "data": {
      "image/png": "[encoded data removed]",
      "text/plain": [
       "<Figure size 432x288 with 1 Axes>"
      ]
     },
     "metadata": {
      "needs_background": "light"
     },
     "output_type": "display_data"
    }
   ],
   "source": [
    "# Boxplot of Price  using Dataframe method\n",
    "\n",
    "df.boxplot(column='Price',grid=True,figsize=(6,4))\n",
    "plt.show()"
   ]
  },
  {
   "cell_type": "code",
   "execution_count": 69,
   "metadata": {},
   "outputs": [
    {
     "data": {
      "image/png": "[encoded data removed]",
      "text/plain": [
       "<Figure size 432x288 with 1 Axes>"
      ]
     },
     "metadata": {
      "needs_background": "light"
     },
     "output_type": "display_data"
    }
   ],
   "source": [
    "# Box plot of Rating\n",
    "\n",
    "df.boxplot(column='Rating', grid=True, figsize=(6,4))\n",
    "plt.show()"
   ]
  },
  {
   "cell_type": "code",
   "execution_count": 70,
   "metadata": {},
   "outputs": [
    {
     "data": {
      "image/png": "[encoded data removed]",
      "text/plain": [
       "<Figure size 720x576 with 1 Axes>"
      ]
     },
     "metadata": {
      "needs_background": "light"
     },
     "output_type": "display_data"
    }
   ],
   "source": [
    "# Bivariate Analysis\n",
    "# Box plot of CPU and Price\n",
    "\n",
    "plt.figure(figsize=(10,8))\n",
    "sns.boxplot(y=\"CPU\",x='Price',data=df)\n",
    "plt.show()"
   ]
  },
  {
   "cell_type": "code",
   "execution_count": null,
   "metadata": {},
   "outputs": [],
   "source": []
  },
  {
   "cell_type": "code",
   "execution_count": null,
   "metadata": {},
   "outputs": [],
   "source": []
  },
  {
   "cell_type": "code",
   "execution_count": null,
   "metadata": {},
   "outputs": [],
   "source": []
  },
  {
   "cell_type": "code",
   "execution_count": null,
   "metadata": {},
   "outputs": [],
   "source": []
  },
  {
   "cell_type": "markdown",
   "metadata": {},
   "source": [
    "### Bar Graphs using Matplotlib"
   ]
  },
  {
   "cell_type": "code",
   "execution_count": 76,
   "metadata": {},
   "outputs": [
    {
     "data": {
      "image/png": "[encoded data removed]",
      "text/plain": [
       "<Figure size 1080x360 with 1 Axes>"
      ]
     },
     "metadata": {
      "needs_background": "light"
     },
     "output_type": "display_data"
    }
   ],
   "source": [
    "# Bar Graph - Processor Vs Price\n",
    "#Using plt\n",
    "\n",
    "plt.figure(figsize=(15,5))\n",
    "plt.bar(df['CPU'], df['Price'], color='green')\n",
    "plt.xticks(rotation=45)\n",
    "plt.xlabel('Processor')\n",
    "plt.ylabel('Price')\n",
    "plt.title('Processor Vs Price')\n",
    "plt.show()"
   ]
  },
  {
   "cell_type": "code",
   "execution_count": 77,
   "metadata": {},
   "outputs": [
    {
     "data": {
      "image/png": "[encoded data removed]",
      "text/plain": [
       "<Figure size 1080x360 with 1 Axes>"
      ]
     },
     "metadata": {
      "needs_background": "light"
     },
     "output_type": "display_data"
    }
   ],
   "source": [
    "plt.figure(figsize=(15,5))\n",
    "plt.bar(df['CPU'], df['Price'], color='green')\n",
    "plt.xticks(rotation=90)\n",
    "plt.xlabel('Processor')\n",
    "plt.ylabel('Price')\n",
    "plt.title('Processor Vs Price')\n",
    "plt.show()"
   ]
  },
  {
   "cell_type": "code",
   "execution_count": null,
   "metadata": {},
   "outputs": [],
   "source": []
  }
 ],
 "metadata": {
  "kernelspec": {
   "display_name": "Python 3",
   "language": "python",
   "name": "python3"
  },
  "language_info": {
   "codemirror_mode": {
    "name": "ipython",
    "version": 3
   },
   "file_extension": ".py",
   "mimetype": "text/x-python",
   "name": "python",
   "nbconvert_exporter": "python",
   "pygments_lexer": "ipython3",
   "version": "3.8.3"
  }
 },
 "nbformat": 4,
 "nbformat_minor": 4
}
